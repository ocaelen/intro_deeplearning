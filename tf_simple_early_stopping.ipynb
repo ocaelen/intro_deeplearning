{
 "cells": [
  {
   "cell_type": "code",
   "execution_count": 1,
   "metadata": {},
   "outputs": [],
   "source": [
    "import pandas as pd\n",
    "from sklearn.preprocessing import OneHotEncoder\n",
    "from tensorflow import keras\n",
    "from tensorflow.keras import Sequential\n",
    "from tensorflow.keras.layers import Dense, Flatten\n",
    "from tensorflow.keras.callbacks import EarlyStopping, ModelCheckpoint\n",
    "import numpy as np"
   ]
  },
  {
   "cell_type": "code",
   "execution_count": 2,
   "metadata": {},
   "outputs": [],
   "source": [
    "(x_train, y_train), (x_test, y_test) = keras.datasets.mnist.load_data()\n",
    "\n",
    "# Scale images variables in [0, 1]\n",
    "x_train = x_train.astype(\"float32\") / 255\n",
    "x_test = x_test.astype(\"float32\") / 255\n",
    "\n",
    "# shape (60000, 28, 28) -> (60000, 28, 28, 1)\n",
    "x_train = np.expand_dims(x_train, -1)\n",
    "x_test = np.expand_dims(x_test, -1)\n",
    "\n",
    "# shape (60000,) -> (60000, 1)\n",
    "y_train = y_train.reshape(-1,1)\n",
    "y_test = y_test.reshape(-1,1)\n",
    "\n",
    "# output to one hot encoding\n",
    "enc = OneHotEncoder(sparse=False)\n",
    "y_train = enc.fit_transform(y_train)\n",
    "y_test = enc.transform(y_test)"
   ]
  },
  {
   "cell_type": "code",
   "execution_count": 3,
   "metadata": {},
   "outputs": [],
   "source": [
    "early_stopping = EarlyStopping(monitor='val_loss', \n",
    "                               patience=3,\n",
    "                               verbose=1)\n",
    "checkpoint = ModelCheckpoint(filepath = 'checkpoint_best',\n",
    "                             monitor='val_loss',\n",
    "                             save_best_only=True,\n",
    "                             save_weights_only=True,\n",
    "                             verbose=1)"
   ]
  },
  {
   "cell_type": "code",
   "execution_count": 4,
   "metadata": {},
   "outputs": [
    {
     "name": "stdout",
     "output_type": "stream",
     "text": [
      "Model: \"sequential\"\n",
      "_________________________________________________________________\n",
      "Layer (type)                 Output Shape              Param #   \n",
      "=================================================================\n",
      "flatten (Flatten)            (None, 784)               0         \n",
      "_________________________________________________________________\n",
      "dense (Dense)                (None, 30)                23550     \n",
      "_________________________________________________________________\n",
      "dense_1 (Dense)              (None, 20)                620       \n",
      "_________________________________________________________________\n",
      "dense_2 (Dense)              (None, 15)                315       \n",
      "_________________________________________________________________\n",
      "dense_3 (Dense)              (None, 10)                160       \n",
      "=================================================================\n",
      "Total params: 24,645\n",
      "Trainable params: 24,645\n",
      "Non-trainable params: 0\n",
      "_________________________________________________________________\n",
      "Epoch 1/30\n",
      "1500/1500 [==============================] - ETA: 0s - loss: 0.4530\n",
      "Epoch 00001: val_loss improved from inf to 0.25928, saving model to checkpoint_best\n",
      "1500/1500 [==============================] - 19s 13ms/step - loss: 0.4530 - val_loss: 0.2593\n",
      "Epoch 2/30\n",
      "1497/1500 [============================>.] - ETA: 0s - loss: 0.2120\n",
      "Epoch 00002: val_loss improved from 0.25928 to 0.18560, saving model to checkpoint_best\n",
      "1500/1500 [==============================] - 16s 11ms/step - loss: 0.2117 - val_loss: 0.1856\n",
      "Epoch 3/30\n",
      "1497/1500 [============================>.] - ETA: 0s - loss: 0.1645\n",
      "Epoch 00003: val_loss improved from 0.18560 to 0.16135, saving model to checkpoint_best\n",
      "1500/1500 [==============================] - 15s 10ms/step - loss: 0.1644 - val_loss: 0.1614\n",
      "Epoch 4/30\n",
      "1496/1500 [============================>.] - ETA: 0s - loss: 0.1377\n",
      "Epoch 00004: val_loss improved from 0.16135 to 0.15406, saving model to checkpoint_best\n",
      "1500/1500 [==============================] - 15s 10ms/step - loss: 0.1375 - val_loss: 0.1541\n",
      "Epoch 5/30\n",
      "1500/1500 [==============================] - ETA: 0s - loss: 0.1228\n",
      "Epoch 00005: val_loss improved from 0.15406 to 0.14556, saving model to checkpoint_best\n",
      "1500/1500 [==============================] - 15s 10ms/step - loss: 0.1228 - val_loss: 0.1456\n",
      "Epoch 6/30\n",
      "1498/1500 [============================>.] - ETA: 0s - loss: 0.1090\n",
      "Epoch 00006: val_loss improved from 0.14556 to 0.14472, saving model to checkpoint_best\n",
      "1500/1500 [==============================] - 10s 6ms/step - loss: 0.1090 - val_loss: 0.1447\n",
      "Epoch 7/30\n",
      "1497/1500 [============================>.] - ETA: 0s - loss: 0.1005\n",
      "Epoch 00007: val_loss improved from 0.14472 to 0.13592, saving model to checkpoint_best\n",
      "1500/1500 [==============================] - 9s 6ms/step - loss: 0.1004 - val_loss: 0.1359\n",
      "Epoch 8/30\n",
      "1497/1500 [============================>.] - ETA: 0s - loss: 0.0899\n",
      "Epoch 00008: val_loss improved from 0.13592 to 0.12959, saving model to checkpoint_best\n",
      "1500/1500 [==============================] - 10s 7ms/step - loss: 0.0899 - val_loss: 0.1296\n",
      "Epoch 9/30\n",
      "1492/1500 [============================>.] - ETA: 0s - loss: 0.0841\n",
      "Epoch 00009: val_loss did not improve from 0.12959\n",
      "1500/1500 [==============================] - 10s 7ms/step - loss: 0.0843 - val_loss: 0.1348\n",
      "Epoch 10/30\n",
      "1490/1500 [============================>.] - ETA: 0s - loss: 0.0769\n",
      "Epoch 00010: val_loss did not improve from 0.12959\n",
      "1500/1500 [==============================] - 11s 7ms/step - loss: 0.0771 - val_loss: 0.1443\n",
      "Epoch 11/30\n",
      "1500/1500 [==============================] - ETA: 0s - loss: 0.0731\n",
      "Epoch 00011: val_loss did not improve from 0.12959\n",
      "1500/1500 [==============================] - 19s 12ms/step - loss: 0.0731 - val_loss: 0.1526\n",
      "Epoch 00011: early stopping\n"
     ]
    }
   ],
   "source": [
    "\n",
    "model = Sequential([\n",
    "    Flatten(input_shape=(28,28,1)),\n",
    "    Dense(30, activation='relu'),\n",
    "    Dense(20, activation='relu'),\n",
    "    Dense(15, activation='relu'),\n",
    "    Dense(10, activation='softmax') \n",
    "])\n",
    "model.summary()\n",
    "model.compile(optimizer='adam', loss='categorical_crossentropy')\n",
    "hist = model.fit(x_train, y_train, epochs=30, verbose=1, validation_split=0.2,\n",
    "                 callbacks=[early_stopping, checkpoint])"
   ]
  },
  {
   "cell_type": "code",
   "execution_count": 5,
   "metadata": {},
   "outputs": [
    {
     "data": {
      "text/plain": [
       "<AxesSubplot:>"
      ]
     },
     "execution_count": 5,
     "metadata": {},
     "output_type": "execute_result"
    },
    {
     "data": {
      "image/png": "[encoded data removed]",
      "text/plain": [
       "<Figure size 432x288 with 1 Axes>"
      ]
     },
     "metadata": {
      "needs_background": "light"
     },
     "output_type": "display_data"
    }
   ],
   "source": [
    "pd.DataFrame(hist.history).plot()"
   ]
  },
  {
   "cell_type": "code",
   "execution_count": 6,
   "metadata": {},
   "outputs": [
    {
     "name": "stdout",
     "output_type": "stream",
     "text": [
      "313/313 [==============================] - 2s 7ms/step - loss: 0.1288\n"
     ]
    },
    {
     "data": {
      "text/plain": [
       "0.12881053984165192"
      ]
     },
     "execution_count": 6,
     "metadata": {},
     "output_type": "execute_result"
    }
   ],
   "source": [
    "model.load_weights('checkpoint_best')\n",
    "model.evaluate(x_test, y_test)"
   ]
  }
 ],
 "metadata": {
  "kernelspec": {
   "display_name": "Python 3",
   "language": "python",
   "name": "python3"
  },
  "language_info": {
   "codemirror_mode": {
    "name": "ipython",
    "version": 3
   },
   "file_extension": ".py",
   "mimetype": "text/x-python",
   "name": "python",
   "nbconvert_exporter": "python",
   "pygments_lexer": "ipython3",
   "version": "3.8.5"
  }
 },
 "nbformat": 4,
 "nbformat_minor": 4
}
