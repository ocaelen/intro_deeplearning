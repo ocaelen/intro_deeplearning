{
 "cells": [
  {
   "cell_type": "code",
   "execution_count": 1,
   "metadata": {},
   "outputs": [],
   "source": [
    "import pandas as pd\n",
    "from sklearn.preprocessing import OneHotEncoder\n",
    "from tensorflow import keras\n",
    "from tensorflow.keras import Sequential\n",
    "from tensorflow.keras.layers import Dense, Flatten\n",
    "from tensorflow.keras.callbacks import EarlyStopping, ModelCheckpoint\n",
    "import numpy as np\n",
    "\n",
    "from numpy.random import seed\n",
    "from tensorflow.random import set_seed\n",
    "seed(42)\n",
    "set_seed(42)"
   ]
  },
  {
   "cell_type": "code",
   "execution_count": 2,
   "metadata": {},
   "outputs": [],
   "source": [
    "(x_train, y_train), (x_test, y_test) = keras.datasets.mnist.load_data()\n",
    "\n",
    "# Scale images variables in [0, 1]\n",
    "x_train = x_train.astype(\"float32\") / 255\n",
    "x_test = x_test.astype(\"float32\") / 255\n",
    "\n",
    "# shape (60000, 28, 28) -> (60000, 28, 28, 1)\n",
    "x_train = np.expand_dims(x_train, -1)\n",
    "x_test = np.expand_dims(x_test, -1)\n",
    "\n",
    "# shape (60000,) -> (60000, 1)\n",
    "y_train = y_train.reshape(-1,1)\n",
    "y_test = y_test.reshape(-1,1)\n",
    "\n",
    "# output to one hot encoding\n",
    "enc = OneHotEncoder(sparse=False)\n",
    "y_train = enc.fit_transform(y_train)\n",
    "y_test = enc.transform(y_test)"
   ]
  },
  {
   "cell_type": "code",
   "execution_count": 3,
   "metadata": {},
   "outputs": [],
   "source": [
    "early_stopping = EarlyStopping(monitor='val_loss', \n",
    "                               patience=3,\n",
    "                               verbose=1)\n",
    "checkpoint = ModelCheckpoint(filepath = 'checkpoint_best',\n",
    "                             monitor='val_loss',\n",
    "                             save_best_only=True,\n",
    "                             save_weights_only=True,\n",
    "                             verbose=1)"
   ]
  },
  {
   "cell_type": "code",
   "execution_count": 4,
   "metadata": {},
   "outputs": [
    {
     "name": "stdout",
     "output_type": "stream",
     "text": [
      "Model: \"sequential\"\n",
      "_________________________________________________________________\n",
      "Layer (type)                 Output Shape              Param #   \n",
      "=================================================================\n",
      "flatten (Flatten)            (None, 784)               0         \n",
      "_________________________________________________________________\n",
      "dense (Dense)                (None, 30)                23550     \n",
      "_________________________________________________________________\n",
      "dense_1 (Dense)              (None, 20)                620       \n",
      "_________________________________________________________________\n",
      "dense_2 (Dense)              (None, 15)                315       \n",
      "_________________________________________________________________\n",
      "dense_3 (Dense)              (None, 10)                160       \n",
      "=================================================================\n",
      "Total params: 24,645\n",
      "Trainable params: 24,645\n",
      "Non-trainable params: 0\n",
      "_________________________________________________________________\n",
      "Epoch 1/30\n",
      "1499/1500 [============================>.] - ETA: 0s - loss: 0.4605\n",
      "Epoch 00001: val_loss improved from inf to 0.23411, saving model to checkpoint_best\n",
      "1500/1500 [==============================] - 17s 11ms/step - loss: 0.4604 - val_loss: 0.2341\n",
      "Epoch 2/30\n",
      "1499/1500 [============================>.] - ETA: 0s - loss: 0.2133\n",
      "Epoch 00002: val_loss improved from 0.23411 to 0.18881, saving model to checkpoint_best\n",
      "1500/1500 [==============================] - 17s 11ms/step - loss: 0.2134 - val_loss: 0.1888\n",
      "Epoch 3/30\n",
      "1497/1500 [============================>.] - ETA: 0s - loss: 0.1701\n",
      "Epoch 00003: val_loss improved from 0.18881 to 0.15467, saving model to checkpoint_best\n",
      "1500/1500 [==============================] - 16s 11ms/step - loss: 0.1699 - val_loss: 0.1547\n",
      "Epoch 4/30\n",
      "1497/1500 [============================>.] - ETA: 0s - loss: 0.1449\n",
      "Epoch 00004: val_loss improved from 0.15467 to 0.15432, saving model to checkpoint_best\n",
      "1500/1500 [==============================] - 19s 13ms/step - loss: 0.1453 - val_loss: 0.1543\n",
      "Epoch 5/30\n",
      "1499/1500 [============================>.] - ETA: 0s - loss: 0.1281\n",
      "Epoch 00005: val_loss improved from 0.15432 to 0.13729, saving model to checkpoint_best\n",
      "1500/1500 [==============================] - 19s 12ms/step - loss: 0.1282 - val_loss: 0.1373\n",
      "Epoch 6/30\n",
      "1500/1500 [==============================] - ETA: 0s - loss: 0.1153\n",
      "Epoch 00006: val_loss improved from 0.13729 to 0.13111, saving model to checkpoint_best\n",
      "1500/1500 [==============================] - 21s 14ms/step - loss: 0.1153 - val_loss: 0.1311\n",
      "Epoch 7/30\n",
      "1493/1500 [============================>.] - ETA: 0s - loss: 0.1048\n",
      "Epoch 00007: val_loss did not improve from 0.13111\n",
      "1500/1500 [==============================] - 15s 10ms/step - loss: 0.1050 - val_loss: 0.1420\n",
      "Epoch 8/30\n",
      "1496/1500 [============================>.] - ETA: 0s - loss: 0.0954\n",
      "Epoch 00008: val_loss did not improve from 0.13111\n",
      "1500/1500 [==============================] - 18s 12ms/step - loss: 0.0954 - val_loss: 0.1437\n",
      "Epoch 9/30\n",
      "1497/1500 [============================>.] - ETA: 0s - loss: 0.0899\n",
      "Epoch 00009: val_loss did not improve from 0.13111\n",
      "1500/1500 [==============================] - 17s 11ms/step - loss: 0.0900 - val_loss: 0.1349\n",
      "Epoch 00009: early stopping\n"
     ]
    }
   ],
   "source": [
    "\n",
    "model = Sequential([\n",
    "    Flatten(input_shape=(28,28,1)),\n",
    "    Dense(30, activation='relu'),\n",
    "    Dense(20, activation='relu'),\n",
    "    Dense(15, activation='relu'),\n",
    "    Dense(10, activation='softmax') \n",
    "])\n",
    "model.summary()\n",
    "model.compile(optimizer='adam', loss='categorical_crossentropy')\n",
    "hist = model.fit(x_train, y_train, epochs=30, verbose=1, validation_split=0.2,\n",
    "                 callbacks=[early_stopping, checkpoint])"
   ]
  },
  {
   "cell_type": "code",
   "execution_count": 5,
   "metadata": {},
   "outputs": [
    {
     "data": {
      "text/plain": [
       "<AxesSubplot:>"
      ]
     },
     "execution_count": 5,
     "metadata": {},
     "output_type": "execute_result"
    },
    {
     "data": {
      "image/png": "[encoded data removed]",
      "text/plain": [
       "<Figure size 432x288 with 1 Axes>"
      ]
     },
     "metadata": {
      "needs_background": "light"
     },
     "output_type": "display_data"
    }
   ],
   "source": [
    "pd.DataFrame(hist.history).plot()"
   ]
  },
  {
   "cell_type": "code",
   "execution_count": 6,
   "metadata": {},
   "outputs": [
    {
     "name": "stdout",
     "output_type": "stream",
     "text": [
      "313/313 [==============================] - 2s 6ms/step - loss: 0.1296\n"
     ]
    },
    {
     "data": {
      "text/plain": [
       "0.12957791984081268"
      ]
     },
     "execution_count": 6,
     "metadata": {},
     "output_type": "execute_result"
    }
   ],
   "source": [
    "model.load_weights('checkpoint_best')\n",
    "model.evaluate(x_test, y_test)"
   ]
  }
 ],
 "metadata": {
  "kernelspec": {
   "display_name": "Python 3",
   "language": "python",
   "name": "python3"
  },
  "language_info": {
   "codemirror_mode": {
    "name": "ipython",
    "version": 3
   },
   "file_extension": ".py",
   "mimetype": "text/x-python",
   "name": "python",
   "nbconvert_exporter": "python",
   "pygments_lexer": "ipython3",
   "version": "3.8.5"
  }
 },
 "nbformat": 4,
 "nbformat_minor": 4
}
