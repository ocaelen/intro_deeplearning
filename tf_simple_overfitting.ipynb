{
 "cells": [
  {
   "cell_type": "code",
   "execution_count": 1,
   "metadata": {},
   "outputs": [],
   "source": [
    "import pandas as pd\n",
    "from sklearn.preprocessing import OneHotEncoder\n",
    "from tensorflow import keras\n",
    "from tensorflow.keras import Sequential\n",
    "from tensorflow.keras.layers import Dense, Flatten\n",
    "import numpy as np"
   ]
  },
  {
   "cell_type": "code",
   "execution_count": 2,
   "metadata": {},
   "outputs": [],
   "source": [
    "(x_train, y_train), (x_test, y_test) = keras.datasets.mnist.load_data()\n",
    "\n",
    "# Scale images variables in [0, 1]\n",
    "x_train = x_train.astype(\"float32\") / 255\n",
    "x_test = x_test.astype(\"float32\") / 255\n",
    "\n",
    "# shape (60000, 28, 28) -> (60000, 28, 28, 1)\n",
    "x_train = np.expand_dims(x_train, -1)\n",
    "x_test = np.expand_dims(x_test, -1)\n",
    "\n",
    "# shape (60000,) -> (60000, 1)\n",
    "y_train = y_train.reshape(-1,1)\n",
    "y_test = y_test.reshape(-1,1)\n",
    "\n",
    "# output to one hot encoding\n",
    "enc = OneHotEncoder(sparse=False)\n",
    "y_train = enc.fit_transform(y_train)\n",
    "y_test = enc.transform(y_test)"
   ]
  },
  {
   "cell_type": "code",
   "execution_count": 3,
   "metadata": {},
   "outputs": [
    {
     "name": "stdout",
     "output_type": "stream",
     "text": [
      "Model: \"sequential\"\n",
      "_________________________________________________________________\n",
      "Layer (type)                 Output Shape              Param #   \n",
      "=================================================================\n",
      "flatten (Flatten)            (None, 784)               0         \n",
      "_________________________________________________________________\n",
      "dense (Dense)                (None, 30)                23550     \n",
      "_________________________________________________________________\n",
      "dense_1 (Dense)              (None, 20)                620       \n",
      "_________________________________________________________________\n",
      "dense_2 (Dense)              (None, 15)                315       \n",
      "_________________________________________________________________\n",
      "dense_3 (Dense)              (None, 10)                160       \n",
      "=================================================================\n",
      "Total params: 24,645\n",
      "Trainable params: 24,645\n",
      "Non-trainable params: 0\n",
      "_________________________________________________________________\n",
      "Epoch 1/30\n",
      "1500/1500 [==============================] - 21s 14ms/step - loss: 0.4315 - val_loss: 0.2068\n",
      "Epoch 2/30\n",
      "1500/1500 [==============================] - 14s 9ms/step - loss: 0.1937 - val_loss: 0.1734\n",
      "Epoch 3/30\n",
      "1500/1500 [==============================] - 16s 11ms/step - loss: 0.1517 - val_loss: 0.1642\n",
      "Epoch 4/30\n",
      "1500/1500 [==============================] - 17s 12ms/step - loss: 0.1284 - val_loss: 0.1298\n",
      "Epoch 5/30\n",
      "1500/1500 [==============================] - 21s 14ms/step - loss: 0.1133 - val_loss: 0.1271\n",
      "Epoch 6/30\n",
      "1500/1500 [==============================] - 20s 14ms/step - loss: 0.1012 - val_loss: 0.1258\n",
      "Epoch 7/30\n",
      "1500/1500 [==============================] - 21s 14ms/step - loss: 0.0935 - val_loss: 0.1315\n",
      "Epoch 8/30\n",
      "1500/1500 [==============================] - 19s 13ms/step - loss: 0.0850 - val_loss: 0.1346\n",
      "Epoch 9/30\n",
      "1500/1500 [==============================] - 22s 15ms/step - loss: 0.0776 - val_loss: 0.1254\n",
      "Epoch 10/30\n",
      "1500/1500 [==============================] - 18s 12ms/step - loss: 0.0717 - val_loss: 0.1301\n",
      "Epoch 11/30\n",
      "1500/1500 [==============================] - 19s 13ms/step - loss: 0.0680 - val_loss: 0.1443\n",
      "Epoch 12/30\n",
      "1500/1500 [==============================] - 24s 16ms/step - loss: 0.0626 - val_loss: 0.1358\n",
      "Epoch 13/30\n",
      "1500/1500 [==============================] - 23s 15ms/step - loss: 0.0602 - val_loss: 0.1285\n",
      "Epoch 14/30\n",
      "1500/1500 [==============================] - 22s 15ms/step - loss: 0.0549 - val_loss: 0.1404\n",
      "Epoch 15/30\n",
      "1500/1500 [==============================] - 18s 12ms/step - loss: 0.0533 - val_loss: 0.1387\n",
      "Epoch 16/30\n",
      "1500/1500 [==============================] - 17s 11ms/step - loss: 0.0499 - val_loss: 0.1353\n",
      "Epoch 17/30\n",
      "1500/1500 [==============================] - 19s 13ms/step - loss: 0.0491 - val_loss: 0.1475\n",
      "Epoch 18/30\n",
      "1500/1500 [==============================] - 19s 13ms/step - loss: 0.0444 - val_loss: 0.1475\n",
      "Epoch 19/30\n",
      "1500/1500 [==============================] - 17s 11ms/step - loss: 0.0428 - val_loss: 0.1498\n",
      "Epoch 20/30\n",
      "1500/1500 [==============================] - 22s 14ms/step - loss: 0.0397 - val_loss: 0.1583\n",
      "Epoch 21/30\n",
      "1500/1500 [==============================] - 18s 12ms/step - loss: 0.0388 - val_loss: 0.1557\n",
      "Epoch 22/30\n",
      "1500/1500 [==============================] - 19s 13ms/step - loss: 0.0357 - val_loss: 0.1542\n",
      "Epoch 23/30\n",
      "1500/1500 [==============================] - 22s 14ms/step - loss: 0.0363 - val_loss: 0.1623\n",
      "Epoch 24/30\n",
      "1500/1500 [==============================] - 20s 13ms/step - loss: 0.0349 - val_loss: 0.1805\n",
      "Epoch 25/30\n",
      "1500/1500 [==============================] - 19s 13ms/step - loss: 0.0319 - val_loss: 0.1566\n",
      "Epoch 26/30\n",
      "1500/1500 [==============================] - 19s 12ms/step - loss: 0.0320 - val_loss: 0.1770\n",
      "Epoch 27/30\n",
      "1500/1500 [==============================] - 18s 12ms/step - loss: 0.0308 - val_loss: 0.1724\n",
      "Epoch 28/30\n",
      "1500/1500 [==============================] - 19s 13ms/step - loss: 0.0287 - val_loss: 0.1781\n",
      "Epoch 29/30\n",
      "1500/1500 [==============================] - 21s 14ms/step - loss: 0.0267 - val_loss: 0.1811\n",
      "Epoch 30/30\n",
      "1500/1500 [==============================] - 19s 13ms/step - loss: 0.0261 - val_loss: 0.1733\n"
     ]
    }
   ],
   "source": [
    "model = Sequential([\n",
    "    Flatten(input_shape=(28,28,1)),\n",
    "    Dense(30, activation='relu'),\n",
    "    Dense(20, activation='relu'),\n",
    "    Dense(15, activation='relu'),\n",
    "    Dense(10, activation='softmax') \n",
    "])\n",
    "model.summary()\n",
    "model.compile(optimizer='adam', loss='categorical_crossentropy')\n",
    "hist = model.fit(x_train, y_train, epochs=30, verbose=1, validation_split=0.2)"
   ]
  },
  {
   "cell_type": "code",
   "execution_count": 4,
   "metadata": {},
   "outputs": [
    {
     "data": {
      "text/plain": [
       "<AxesSubplot:>"
      ]
     },
     "execution_count": 4,
     "metadata": {},
     "output_type": "execute_result"
    },
    {
     "data": {
      "image/png": "[encoded data removed]",
      "text/plain": [
       "<Figure size 432x288 with 1 Axes>"
      ]
     },
     "metadata": {
      "needs_background": "light"
     },
     "output_type": "display_data"
    }
   ],
   "source": [
    "pd.DataFrame(hist.history).plot()"
   ]
  },
  {
   "cell_type": "code",
   "execution_count": 5,
   "metadata": {},
   "outputs": [
    {
     "name": "stdout",
     "output_type": "stream",
     "text": [
      "313/313 [==============================] - 2s 6ms/step - loss: 0.1664\n"
     ]
    },
    {
     "data": {
      "text/plain": [
       "0.16639645397663116"
      ]
     },
     "execution_count": 5,
     "metadata": {},
     "output_type": "execute_result"
    }
   ],
   "source": [
    "model.evaluate(x_test, y_test)"
   ]
  }
 ],
 "metadata": {
  "kernelspec": {
   "display_name": "Python 3",
   "language": "python",
   "name": "python3"
  },
  "language_info": {
   "codemirror_mode": {
    "name": "ipython",
    "version": 3
   },
   "file_extension": ".py",
   "mimetype": "text/x-python",
   "name": "python",
   "nbconvert_exporter": "python",
   "pygments_lexer": "ipython3",
   "version": "3.8.5"
  }
 },
 "nbformat": 4,
 "nbformat_minor": 4
}
