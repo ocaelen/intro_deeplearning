{
 "cells": [
  {
   "cell_type": "code",
   "execution_count": 1,
   "metadata": {},
   "outputs": [],
   "source": [
    "import seaborn as sns\n",
    "import matplotlib.pyplot as plt\n",
    "import pandas as pd\n",
    "from sklearn.preprocessing import StandardScaler, OneHotEncoder\n",
    "import tensorflow as tf\n",
    "from tensorflow import keras\n",
    "from tensorflow.keras import Sequential\n",
    "from tensorflow.keras.layers import Dense, Flatten, Input\n",
    "import numpy as np\n",
    "\n",
    "tf.random.set_seed(42)"
   ]
  },
  {
   "cell_type": "code",
   "execution_count": 2,
   "metadata": {},
   "outputs": [],
   "source": [
    "(x_train, y_train), (x_test, y_test) = keras.datasets.mnist.load_data()\n",
    "\n",
    "# Scale images variables in [0, 1]\n",
    "x_train = x_train.astype(\"float32\") / 255\n",
    "x_test = x_test.astype(\"float32\") / 255\n",
    "\n",
    "# shape (60000, 28, 28) -> (60000, 28, 28, 1)\n",
    "x_train = np.expand_dims(x_train, -1)\n",
    "x_test = np.expand_dims(x_test, -1)\n",
    "\n",
    "# shape (60000,) -> (60000, 1)\n",
    "y_train = y_train.reshape(-1,1)\n",
    "y_test = y_test.reshape(-1,1)\n",
    "\n",
    "# output to one hot encoding\n",
    "enc = OneHotEncoder(sparse=False)\n",
    "y_train = enc.fit_transform(y_train)\n",
    "y_test = enc.transform(y_test)"
   ]
  },
  {
   "cell_type": "code",
   "execution_count": 3,
   "metadata": {},
   "outputs": [
    {
     "name": "stdout",
     "output_type": "stream",
     "text": [
      "Model: \"sequential\"\n",
      "_________________________________________________________________\n",
      "Layer (type)                 Output Shape              Param #   \n",
      "=================================================================\n",
      "flatten (Flatten)            (None, 784)               0         \n",
      "_________________________________________________________________\n",
      "dense (Dense)                (None, 30)                23550     \n",
      "_________________________________________________________________\n",
      "dense_1 (Dense)              (None, 20)                620       \n",
      "_________________________________________________________________\n",
      "dense_2 (Dense)              (None, 15)                315       \n",
      "_________________________________________________________________\n",
      "dense_3 (Dense)              (None, 10)                160       \n",
      "=================================================================\n",
      "Total params: 24,645\n",
      "Trainable params: 24,645\n",
      "Non-trainable params: 0\n",
      "_________________________________________________________________\n",
      "Epoch 1/15\n",
      "1875/1875 [==============================] - 18s 10ms/step - loss: 0.4066 - val_loss: 0.2106\n",
      "Epoch 2/15\n",
      "1875/1875 [==============================] - 17s 9ms/step - loss: 0.1897 - val_loss: 0.1840\n",
      "Epoch 3/15\n",
      "1875/1875 [==============================] - 19s 10ms/step - loss: 0.1508 - val_loss: 0.1330\n",
      "Epoch 4/15\n",
      "1875/1875 [==============================] - 20s 11ms/step - loss: 0.1295 - val_loss: 0.1354\n",
      "Epoch 5/15\n",
      "1875/1875 [==============================] - 22s 12ms/step - loss: 0.1133 - val_loss: 0.1342\n",
      "Epoch 6/15\n",
      "1875/1875 [==============================] - 19s 10ms/step - loss: 0.1019 - val_loss: 0.1160\n",
      "Epoch 7/15\n",
      "1875/1875 [==============================] - 22s 12ms/step - loss: 0.0941 - val_loss: 0.1133\n",
      "Epoch 8/15\n",
      "1875/1875 [==============================] - 22s 11ms/step - loss: 0.0868 - val_loss: 0.1147\n",
      "Epoch 9/15\n",
      "1875/1875 [==============================] - 19s 10ms/step - loss: 0.0803 - val_loss: 0.1224\n",
      "Epoch 10/15\n",
      "1875/1875 [==============================] - 24s 13ms/step - loss: 0.0741 - val_loss: 0.1103\n",
      "Epoch 11/15\n",
      "1875/1875 [==============================] - 23s 13ms/step - loss: 0.0688 - val_loss: 0.1126\n",
      "Epoch 12/15\n",
      "1875/1875 [==============================] - 23s 12ms/step - loss: 0.0652 - val_loss: 0.1169\n",
      "Epoch 13/15\n",
      "1875/1875 [==============================] - 21s 11ms/step - loss: 0.0608 - val_loss: 0.1155\n",
      "Epoch 14/15\n",
      "1875/1875 [==============================] - 22s 12ms/step - loss: 0.0573 - val_loss: 0.1216\n",
      "Epoch 15/15\n",
      "1875/1875 [==============================] - 23s 12ms/step - loss: 0.0541 - val_loss: 0.1236\n"
     ]
    }
   ],
   "source": [
    "model = Sequential([\n",
    "    Flatten(input_shape=(28,28,1)),\n",
    "    Dense(30, activation='relu'),\n",
    "    Dense(20, activation='relu'),\n",
    "    Dense(15, activation='relu'),\n",
    "    Dense(10, activation='softmax') \n",
    "])\n",
    "model.summary()\n",
    "model.compile(optimizer='adam', loss='categorical_crossentropy')\n",
    "hist = model.fit(x_train, y_train, epochs=15, verbose=1, validation_data=(x_test, y_test))"
   ]
  },
  {
   "cell_type": "code",
   "execution_count": 4,
   "metadata": {},
   "outputs": [
    {
     "data": {
      "text/plain": [
       "<AxesSubplot:>"
      ]
     },
     "execution_count": 4,
     "metadata": {},
     "output_type": "execute_result"
    },
    {
     "data": {
      "image/png": "[encoded data removed]",
      "text/plain": [
       "<Figure size 432x288 with 1 Axes>"
      ]
     },
     "metadata": {
      "needs_background": "light"
     },
     "output_type": "display_data"
    }
   ],
   "source": [
    "pd.DataFrame(hist.history).plot()"
   ]
  }
 ],
 "metadata": {
  "kernelspec": {
   "display_name": "Python 3",
   "language": "python",
   "name": "python3"
  },
  "language_info": {
   "codemirror_mode": {
    "name": "ipython",
    "version": 3
   },
   "file_extension": ".py",
   "mimetype": "text/x-python",
   "name": "python",
   "nbconvert_exporter": "python",
   "pygments_lexer": "ipython3",
   "version": "3.8.5"
  }
 },
 "nbformat": 4,
 "nbformat_minor": 4
}
