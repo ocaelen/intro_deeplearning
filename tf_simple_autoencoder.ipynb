{
 "cells": [
  {
   "cell_type": "code",
   "execution_count": 1,
   "metadata": {},
   "outputs": [
    {
     "name": "stderr",
     "output_type": "stream",
     "text": [
      "2022-03-06 02:19:26.806189: W tensorflow/stream_executor/platform/default/dso_loader.cc:64] Could not load dynamic library 'libcudart.so.11.0'; dlerror: libcudart.so.11.0: cannot open shared object file: No such file or directory\n",
      "2022-03-06 02:19:26.806267: I tensorflow/stream_executor/cuda/cudart_stub.cc:29] Ignore above cudart dlerror if you do not have a GPU set up on your machine.\n"
     ]
    }
   ],
   "source": [
    "import matplotlib.pyplot as plt\n",
    "import numpy as np\n",
    "import pandas as pd\n",
    "\n",
    "from tensorflow.keras import Sequential, datasets\n",
    "from tensorflow.keras.layers import Dense, Flatten, Reshape, Input\n",
    "from tensorflow.keras.losses import MeanSquaredError"
   ]
  },
  {
   "cell_type": "code",
   "execution_count": 2,
   "metadata": {},
   "outputs": [
    {
     "name": "stdout",
     "output_type": "stream",
     "text": [
      "(60000, 28, 28)\n",
      "(10000, 28, 28)\n"
     ]
    }
   ],
   "source": [
    "(x_train, _), (x_test, _) = datasets.fashion_mnist.load_data()\n",
    "(x_train, _), (x_test, _) = datasets.mnist.load_data()\n",
    "\n",
    "x_train = x_train.astype('float32') / 255.\n",
    "x_test = x_test.astype('float32') / 255.\n",
    "\n",
    "print (x_train.shape)\n",
    "print (x_test.shape)"
   ]
  },
  {
   "cell_type": "code",
   "execution_count": 3,
   "metadata": {},
   "outputs": [
    {
     "name": "stdout",
     "output_type": "stream",
     "text": [
      "Model: \"sequential\"\n",
      "_________________________________________________________________\n",
      " Layer (type)                Output Shape              Param #   \n",
      "=================================================================\n",
      " encoder_flatten (Flatten)   (None, 784)               0         \n",
      "                                                                 \n",
      " encoder_1 (Dense)           (None, 300)               235500    \n",
      "                                                                 \n",
      " encoder_2 (Dense)           (None, 100)               30100     \n",
      "                                                                 \n",
      " encoder_output (Dense)      (None, 9)                 909       \n",
      "                                                                 \n",
      " decoder_1 (Dense)           (None, 100)               1000      \n",
      "                                                                 \n",
      " decoder_2 (Dense)           (None, 300)               30300     \n",
      "                                                                 \n",
      " decoder_output (Dense)      (None, 784)               235984    \n",
      "                                                                 \n",
      " decoder_reshape (Reshape)   (None, 28, 28)            0         \n",
      "                                                                 \n",
      "=================================================================\n",
      "Total params: 533,793\n",
      "Trainable params: 533,793\n",
      "Non-trainable params: 0\n",
      "_________________________________________________________________\n"
     ]
    },
    {
     "name": "stderr",
     "output_type": "stream",
     "text": [
      "2022-03-06 02:19:30.060641: W tensorflow/stream_executor/platform/default/dso_loader.cc:64] Could not load dynamic library 'libcuda.so.1'; dlerror: libcuda.so.1: cannot open shared object file: No such file or directory\n",
      "2022-03-06 02:19:30.060704: W tensorflow/stream_executor/cuda/cuda_driver.cc:269] failed call to cuInit: UNKNOWN ERROR (303)\n",
      "2022-03-06 02:19:30.060731: I tensorflow/stream_executor/cuda/cuda_diagnostics.cc:156] kernel driver does not appear to be running on this host (DESKTOP-QO6EU4N): /proc/driver/nvidia/version does not exist\n",
      "2022-03-06 02:19:30.060989: I tensorflow/core/platform/cpu_feature_guard.cc:151] This TensorFlow binary is optimized with oneAPI Deep Neural Network Library (oneDNN) to use the following CPU instructions in performance-critical operations:  AVX2 FMA\n",
      "To enable them in other operations, rebuild TensorFlow with the appropriate compiler flags.\n"
     ]
    }
   ],
   "source": [
    "latent_dim = 9\n",
    "\n",
    "autoencoder = Sequential([\n",
    "    Flatten(name='encoder_flatten', input_shape=(28, 28)),\n",
    "    Dense(300, activation='relu', name='encoder_1'),\n",
    "    Dense(100, activation='relu', name='encoder_2'),\n",
    "    Dense(latent_dim, activation='relu', name='encoder_output'),\n",
    "    Dense(100, activation='relu', name='decoder_1'),\n",
    "    Dense(300, activation='relu', name='decoder_2'),\n",
    "    Dense(28*28, activation='relu', name='decoder_output'),\n",
    "    Reshape((28, 28), name='decoder_reshape') \n",
    "])\n",
    "\n",
    "autoencoder.compile(optimizer='adam', loss=MeanSquaredError())\n",
    "autoencoder.summary()"
   ]
  },
  {
   "cell_type": "code",
   "execution_count": 4,
   "metadata": {},
   "outputs": [
    {
     "name": "stdout",
     "output_type": "stream",
     "text": [
      "Epoch 1/15\n"
     ]
    },
    {
     "name": "stderr",
     "output_type": "stream",
     "text": [
      "2022-03-06 02:19:30.289553: W tensorflow/core/framework/cpu_allocator_impl.cc:82] Allocation of 188160000 exceeds 10% of free system memory.\n",
      "2022-03-06 02:19:30.617845: W tensorflow/core/framework/cpu_allocator_impl.cc:82] Allocation of 188160000 exceeds 10% of free system memory.\n"
     ]
    },
    {
     "name": "stdout",
     "output_type": "stream",
     "text": [
      "1875/1875 [==============================] - 19s 10ms/step - loss: 0.0315 - val_loss: 0.0250\n",
      "Epoch 2/15\n",
      "1875/1875 [==============================] - 17s 9ms/step - loss: 0.0238 - val_loss: 0.0229\n",
      "Epoch 3/15\n",
      "1875/1875 [==============================] - 18s 9ms/step - loss: 0.0222 - val_loss: 0.0213\n",
      "Epoch 4/15\n",
      "1875/1875 [==============================] - 17s 9ms/step - loss: 0.0212 - val_loss: 0.0209\n",
      "Epoch 5/15\n",
      "1875/1875 [==============================] - 18s 10ms/step - loss: 0.0207 - val_loss: 0.0206\n",
      "Epoch 6/15\n",
      "1875/1875 [==============================] - 18s 9ms/step - loss: 0.0203 - val_loss: 0.0202\n",
      "Epoch 7/15\n",
      "1875/1875 [==============================] - 18s 10ms/step - loss: 0.0199 - val_loss: 0.0195\n",
      "Epoch 8/15\n",
      "1875/1875 [==============================] - 18s 9ms/step - loss: 0.0194 - val_loss: 0.0195\n",
      "Epoch 9/15\n",
      "1875/1875 [==============================] - 18s 10ms/step - loss: 0.0191 - val_loss: 0.0191\n",
      "Epoch 10/15\n",
      "1875/1875 [==============================] - 22s 12ms/step - loss: 0.0188 - val_loss: 0.0190\n",
      "Epoch 11/15\n",
      "1875/1875 [==============================] - 37s 20ms/step - loss: 0.0186 - val_loss: 0.0188\n",
      "Epoch 12/15\n",
      "1875/1875 [==============================] - 25s 13ms/step - loss: 0.0184 - val_loss: 0.0187\n",
      "Epoch 13/15\n",
      "1875/1875 [==============================] - 20s 11ms/step - loss: 0.0180 - val_loss: 0.0182\n",
      "Epoch 14/15\n",
      "1875/1875 [==============================] - 21s 11ms/step - loss: 0.0178 - val_loss: 0.0182\n",
      "Epoch 15/15\n",
      "1875/1875 [==============================] - 23s 12ms/step - loss: 0.0177 - val_loss: 0.0183\n"
     ]
    },
    {
     "data": {
      "text/plain": [
       "<keras.callbacks.History at 0x7f12251c54f0>"
      ]
     },
     "execution_count": 4,
     "metadata": {},
     "output_type": "execute_result"
    }
   ],
   "source": [
    "autoencoder.fit(x_train, x_train,\n",
    "                epochs=15,\n",
    "                shuffle=True,\n",
    "                validation_data=(x_test, x_test))"
   ]
  },
  {
   "cell_type": "code",
   "execution_count": 5,
   "metadata": {},
   "outputs": [
    {
     "data": {
      "text/plain": [
       "[<keras.layers.core.flatten.Flatten at 0x7f12281018e0>,\n",
       " <keras.layers.core.dense.Dense at 0x7f1224c520d0>,\n",
       " <keras.layers.core.dense.Dense at 0x7f12280f6cd0>,\n",
       " <keras.layers.core.dense.Dense at 0x7f12280f6820>,\n",
       " <keras.layers.core.dense.Dense at 0x7f12280f6550>,\n",
       " <keras.layers.core.dense.Dense at 0x7f122814ffd0>,\n",
       " <keras.layers.core.dense.Dense at 0x7f1233961700>,\n",
       " <keras.layers.core.reshape.Reshape at 0x7f12a8033c10>]"
      ]
     },
     "execution_count": 5,
     "metadata": {},
     "output_type": "execute_result"
    }
   ],
   "source": [
    "autoencoder.layers"
   ]
  },
  {
   "cell_type": "code",
   "execution_count": 6,
   "metadata": {},
   "outputs": [],
   "source": [
    "encoder = Sequential()\n",
    "for layer in autoencoder.layers[:4]:\n",
    "    encoder.add(layer)\n",
    "    \n",
    "decoder = Sequential()\n",
    "decoder.add(Input(shape=(latent_dim,)))\n",
    "for layer in autoencoder.layers[4:]:\n",
    "    decoder.add(layer)"
   ]
  },
  {
   "cell_type": "code",
   "execution_count": 7,
   "metadata": {},
   "outputs": [
    {
     "name": "stdout",
     "output_type": "stream",
     "text": [
      "Model: \"sequential_1\"\n",
      "_________________________________________________________________\n",
      " Layer (type)                Output Shape              Param #   \n",
      "=================================================================\n",
      " encoder_flatten (Flatten)   (None, 784)               0         \n",
      "                                                                 \n",
      " encoder_1 (Dense)           (None, 300)               235500    \n",
      "                                                                 \n",
      " encoder_2 (Dense)           (None, 100)               30100     \n",
      "                                                                 \n",
      " encoder_output (Dense)      (None, 9)                 909       \n",
      "                                                                 \n",
      "=================================================================\n",
      "Total params: 266,509\n",
      "Trainable params: 266,509\n",
      "Non-trainable params: 0\n",
      "_________________________________________________________________\n"
     ]
    }
   ],
   "source": [
    "encoder.summary()"
   ]
  },
  {
   "cell_type": "code",
   "execution_count": 8,
   "metadata": {},
   "outputs": [
    {
     "name": "stdout",
     "output_type": "stream",
     "text": [
      "Model: \"sequential_2\"\n",
      "_________________________________________________________________\n",
      " Layer (type)                Output Shape              Param #   \n",
      "=================================================================\n",
      " decoder_1 (Dense)           (None, 100)               1000      \n",
      "                                                                 \n",
      " decoder_2 (Dense)           (None, 300)               30300     \n",
      "                                                                 \n",
      " decoder_output (Dense)      (None, 784)               235984    \n",
      "                                                                 \n",
      " decoder_reshape (Reshape)   (None, 28, 28)            0         \n",
      "                                                                 \n",
      "=================================================================\n",
      "Total params: 267,284\n",
      "Trainable params: 267,284\n",
      "Non-trainable params: 0\n",
      "_________________________________________________________________\n"
     ]
    }
   ],
   "source": [
    "decoder.summary()"
   ]
  },
  {
   "cell_type": "code",
   "execution_count": 9,
   "metadata": {},
   "outputs": [
    {
     "data": {
      "text/plain": [
       "<matplotlib.image.AxesImage at 0x7f12218d3460>"
      ]
     },
     "execution_count": 9,
     "metadata": {},
     "output_type": "execute_result"
    },
    {
     "data": {
      "image/png": "[encoded data removed]",
      "text/plain": [
       "<Figure size 432x288 with 1 Axes>"
      ]
     },
     "metadata": {
      "needs_background": "light"
     },
     "output_type": "display_data"
    }
   ],
   "source": [
    "image_idx = 5\n",
    "plt.imshow(x_test[image_idx], cmap='gray') ## This observation was used during ... it's not a perfect experimental design"
   ]
  },
  {
   "cell_type": "code",
   "execution_count": 10,
   "metadata": {},
   "outputs": [
    {
     "name": "stdout",
     "output_type": "stream",
     "text": [
      "[3.9144406  4.7051606  0.61286247 1.7784084  1.1460046  4.000576\n",
      " 0.         1.0487107  1.6416252 ]\n"
     ]
    },
    {
     "data": {
      "image/png": "[encoded data removed]",
      "text/plain": [
       "<Figure size 432x288 with 1 Axes>"
      ]
     },
     "metadata": {
      "needs_background": "light"
     },
     "output_type": "display_data"
    }
   ],
   "source": [
    "pred_enc = encoder.predict(np.expand_dims(x_test[image_idx], axis=0))\n",
    "print(pred_enc[0])\n",
    "plt.imshow(pred_enc[0].reshape((3,3)), cmap='gray');"
   ]
  },
  {
   "cell_type": "code",
   "execution_count": 11,
   "metadata": {},
   "outputs": [
    {
     "data": {
      "text/plain": [
       "<matplotlib.image.AxesImage at 0x7f12143e6460>"
      ]
     },
     "execution_count": 11,
     "metadata": {},
     "output_type": "execute_result"
    },
    {
     "data": {
      "image/png": "[encoded data removed]",
      "text/plain": [
       "<Figure size 432x288 with 1 Axes>"
      ]
     },
     "metadata": {
      "needs_background": "light"
     },
     "output_type": "display_data"
    }
   ],
   "source": [
    "plt.imshow(decoder.predict(pred_enc)[0], cmap='gray')"
   ]
  }
 ],
 "metadata": {
  "kernelspec": {
   "display_name": "Python 3 (ipykernel)",
   "language": "python",
   "name": "python3"
  },
  "language_info": {
   "codemirror_mode": {
    "name": "ipython",
    "version": 3
   },
   "file_extension": ".py",
   "mimetype": "text/x-python",
   "name": "python",
   "nbconvert_exporter": "python",
   "pygments_lexer": "ipython3",
   "version": "3.8.10"
  }
 },
 "nbformat": 4,
 "nbformat_minor": 4
}
