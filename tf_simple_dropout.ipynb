{
 "cells": [
  {
   "cell_type": "code",
   "execution_count": 1,
   "metadata": {},
   "outputs": [],
   "source": [
    "import pandas as pd\n",
    "from sklearn.preprocessing import OneHotEncoder\n",
    "from tensorflow import keras\n",
    "from tensorflow.keras import Sequential\n",
    "from tensorflow.keras.layers import Dense, Flatten, Dropout\n",
    "import numpy as np\n",
    "\n",
    "from numpy.random import seed\n",
    "from tensorflow.random import set_seed\n",
    "seed(42)\n",
    "set_seed(42)"
   ]
  },
  {
   "cell_type": "code",
   "execution_count": 2,
   "metadata": {},
   "outputs": [],
   "source": [
    "(x_train, y_train), (x_test, y_test) = keras.datasets.mnist.load_data()\n",
    "\n",
    "# Scale images variables in [0, 1]\n",
    "x_train = x_train.astype(\"float32\") / 255\n",
    "x_test = x_test.astype(\"float32\") / 255\n",
    "\n",
    "# shape (60000, 28, 28) -> (60000, 28, 28, 1)\n",
    "x_train = np.expand_dims(x_train, -1)\n",
    "x_test = np.expand_dims(x_test, -1)\n",
    "\n",
    "# shape (60000,) -> (60000, 1)\n",
    "y_train = y_train.reshape(-1,1)\n",
    "y_test = y_test.reshape(-1,1)\n",
    "\n",
    "# output to one hot encoding\n",
    "enc = OneHotEncoder(sparse=False)\n",
    "y_train = enc.fit_transform(y_train)\n",
    "y_test = enc.transform(y_test)"
   ]
  },
  {
   "cell_type": "code",
   "execution_count": 3,
   "metadata": {},
   "outputs": [
    {
     "name": "stdout",
     "output_type": "stream",
     "text": [
      "Model: \"sequential\"\n",
      "_________________________________________________________________\n",
      "Layer (type)                 Output Shape              Param #   \n",
      "=================================================================\n",
      "flatten (Flatten)            (None, 784)               0         \n",
      "_________________________________________________________________\n",
      "dense (Dense)                (None, 30)                23550     \n",
      "_________________________________________________________________\n",
      "dropout (Dropout)            (None, 30)                0         \n",
      "_________________________________________________________________\n",
      "dense_1 (Dense)              (None, 20)                620       \n",
      "_________________________________________________________________\n",
      "dropout_1 (Dropout)          (None, 20)                0         \n",
      "_________________________________________________________________\n",
      "dense_2 (Dense)              (None, 15)                315       \n",
      "_________________________________________________________________\n",
      "dropout_2 (Dropout)          (None, 15)                0         \n",
      "_________________________________________________________________\n",
      "dense_3 (Dense)              (None, 10)                160       \n",
      "=================================================================\n",
      "Total params: 24,645\n",
      "Trainable params: 24,645\n",
      "Non-trainable params: 0\n",
      "_________________________________________________________________\n",
      "Epoch 1/30\n",
      "1500/1500 [==============================] - 16s 11ms/step - loss: 0.7369 - val_loss: 0.2504\n",
      "Epoch 2/30\n",
      "1500/1500 [==============================] - 17s 11ms/step - loss: 0.3914 - val_loss: 0.2087\n",
      "Epoch 3/30\n",
      "1500/1500 [==============================] - 15s 10ms/step - loss: 0.3243 - val_loss: 0.1769\n",
      "Epoch 4/30\n",
      "1500/1500 [==============================] - 16s 11ms/step - loss: 0.2856 - val_loss: 0.1717\n",
      "Epoch 5/30\n",
      "1500/1500 [==============================] - 16s 10ms/step - loss: 0.2558 - val_loss: 0.1623\n",
      "Epoch 6/30\n",
      "1500/1500 [==============================] - 17s 11ms/step - loss: 0.2394 - val_loss: 0.1533\n",
      "Epoch 7/30\n",
      "1500/1500 [==============================] - 22s 15ms/step - loss: 0.2255 - val_loss: 0.1547\n",
      "Epoch 8/30\n",
      "1500/1500 [==============================] - 18s 12ms/step - loss: 0.2160 - val_loss: 0.1539\n",
      "Epoch 9/30\n",
      "1500/1500 [==============================] - 17s 12ms/step - loss: 0.2075 - val_loss: 0.1507\n",
      "Epoch 10/30\n",
      "1500/1500 [==============================] - 17s 11ms/step - loss: 0.1987 - val_loss: 0.1428\n",
      "Epoch 11/30\n",
      "1500/1500 [==============================] - 17s 11ms/step - loss: 0.1947 - val_loss: 0.1518\n",
      "Epoch 12/30\n",
      "1500/1500 [==============================] - 19s 13ms/step - loss: 0.1884 - val_loss: 0.1448\n",
      "Epoch 13/30\n",
      "1500/1500 [==============================] - 17s 11ms/step - loss: 0.1871 - val_loss: 0.1446\n",
      "Epoch 14/30\n",
      "1500/1500 [==============================] - 17s 11ms/step - loss: 0.1788 - val_loss: 0.1378\n",
      "Epoch 15/30\n",
      "1500/1500 [==============================] - 17s 12ms/step - loss: 0.1779 - val_loss: 0.1408\n",
      "Epoch 16/30\n",
      "1500/1500 [==============================] - 20s 13ms/step - loss: 0.1722 - val_loss: 0.1454\n",
      "Epoch 17/30\n",
      "1500/1500 [==============================] - 19s 13ms/step - loss: 0.1691 - val_loss: 0.1466\n",
      "Epoch 18/30\n",
      "1500/1500 [==============================] - 13s 9ms/step - loss: 0.1613 - val_loss: 0.1468\n",
      "Epoch 19/30\n",
      "1500/1500 [==============================] - 11s 7ms/step - loss: 0.1636 - val_loss: 0.1434\n",
      "Epoch 20/30\n",
      "1500/1500 [==============================] - 11s 7ms/step - loss: 0.1610 - val_loss: 0.1415\n",
      "Epoch 21/30\n",
      "1500/1500 [==============================] - 10s 7ms/step - loss: 0.1579 - val_loss: 0.1479\n",
      "Epoch 22/30\n",
      "1500/1500 [==============================] - 11s 7ms/step - loss: 0.1526 - val_loss: 0.1425\n",
      "Epoch 23/30\n",
      "1500/1500 [==============================] - 10s 7ms/step - loss: 0.1564 - val_loss: 0.1460\n",
      "Epoch 24/30\n",
      "1500/1500 [==============================] - 11s 7ms/step - loss: 0.1557 - val_loss: 0.1406\n",
      "Epoch 25/30\n",
      "1500/1500 [==============================] - 9s 6ms/step - loss: 0.1557 - val_loss: 0.1416\n",
      "Epoch 26/30\n",
      "1500/1500 [==============================] - 10s 7ms/step - loss: 0.1477 - val_loss: 0.1386\n",
      "Epoch 27/30\n",
      "1500/1500 [==============================] - 10s 7ms/step - loss: 0.1485 - val_loss: 0.1453\n",
      "Epoch 28/30\n",
      "1500/1500 [==============================] - 9s 6ms/step - loss: 0.1476 - val_loss: 0.1423\n",
      "Epoch 29/30\n",
      "1500/1500 [==============================] - 10s 6ms/step - loss: 0.1452 - val_loss: 0.1404\n",
      "Epoch 30/30\n",
      "1500/1500 [==============================] - 9s 6ms/step - loss: 0.1458 - val_loss: 0.1466\n"
     ]
    }
   ],
   "source": [
    "model = Sequential([\n",
    "    Flatten(input_shape=(28,28,1)),\n",
    "    Dense(30, activation='relu'),\n",
    "    Dropout(0.1),\n",
    "    Dense(20, activation='relu'),\n",
    "    Dropout(0.1),\n",
    "    Dense(15, activation='relu'),\n",
    "    Dropout(0.1),\n",
    "    Dense(10, activation='softmax') \n",
    "])\n",
    "model.summary()\n",
    "model.compile(optimizer='adam', loss='categorical_crossentropy')\n",
    "hist = model.fit(x_train, y_train, epochs=30, verbose=1, validation_split=0.2)"
   ]
  },
  {
   "cell_type": "code",
   "execution_count": 4,
   "metadata": {},
   "outputs": [
    {
     "data": {
      "text/plain": [
       "<AxesSubplot:>"
      ]
     },
     "execution_count": 4,
     "metadata": {},
     "output_type": "execute_result"
    },
    {
     "data": {
      "image/png": "[encoded data removed]",
      "text/plain": [
       "<Figure size 432x288 with 1 Axes>"
      ]
     },
     "metadata": {
      "needs_background": "light"
     },
     "output_type": "display_data"
    }
   ],
   "source": [
    "pd.DataFrame(hist.history).plot()"
   ]
  },
  {
   "cell_type": "code",
   "execution_count": 5,
   "metadata": {},
   "outputs": [
    {
     "name": "stdout",
     "output_type": "stream",
     "text": [
      "313/313 [==============================] - 1s 3ms/step - loss: 0.1505\n"
     ]
    },
    {
     "data": {
      "text/plain": [
       "0.15052251517772675"
      ]
     },
     "execution_count": 5,
     "metadata": {},
     "output_type": "execute_result"
    }
   ],
   "source": [
    "model.evaluate(x_test, y_test)"
   ]
  }
 ],
 "metadata": {
  "kernelspec": {
   "display_name": "Python 3",
   "language": "python",
   "name": "python3"
  },
  "language_info": {
   "codemirror_mode": {
    "name": "ipython",
    "version": 3
   },
   "file_extension": ".py",
   "mimetype": "text/x-python",
   "name": "python",
   "nbconvert_exporter": "python",
   "pygments_lexer": "ipython3",
   "version": "3.8.5"
  }
 },
 "nbformat": 4,
 "nbformat_minor": 4
}
