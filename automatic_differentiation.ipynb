{
 "cells": [
  {
   "cell_type": "code",
   "execution_count": 1,
   "id": "8512894a",
   "metadata": {},
   "outputs": [],
   "source": [
    "import torch"
   ]
  },
  {
   "cell_type": "code",
   "execution_count": 2,
   "id": "ebb5b0cb",
   "metadata": {},
   "outputs": [],
   "source": [
    "x = torch.tensor(2.0)\n",
    "t = torch.tensor(5.0)\n",
    "\n",
    "w0 = torch.tensor(3.0, requires_grad=True)\n",
    "w1 = torch.tensor(4.0, requires_grad=True)"
   ]
  },
  {
   "cell_type": "code",
   "execution_count": 3,
   "id": "d1ef57dd",
   "metadata": {},
   "outputs": [
    {
     "name": "stdout",
     "output_type": "stream",
     "text": [
      "tensor(36., grad_fn=<PowBackward0>)\n"
     ]
    }
   ],
   "source": [
    "# Forward pass and compute the loss\n",
    "h = x * w1 + w0\n",
    "loss = (h - t)**2\n",
    "\n",
    "print(loss)"
   ]
  },
  {
   "cell_type": "code",
   "execution_count": 4,
   "id": "48d80b21",
   "metadata": {},
   "outputs": [
    {
     "name": "stdout",
     "output_type": "stream",
     "text": [
      "tensor(12.)\n",
      "tensor(24.)\n"
     ]
    }
   ],
   "source": [
    "# Backward pass\n",
    "loss.backward()\n",
    "\n",
    "print(w0.grad)\n",
    "print(w1.grad)"
   ]
  },
  {
   "cell_type": "code",
   "execution_count": null,
   "id": "c6803ec5",
   "metadata": {},
   "outputs": [],
   "source": []
  }
 ],
 "metadata": {
  "kernelspec": {
   "display_name": "Python 3 (ipykernel)",
   "language": "python",
   "name": "python3"
  },
  "language_info": {
   "codemirror_mode": {
    "name": "ipython",
    "version": 3
   },
   "file_extension": ".py",
   "mimetype": "text/x-python",
   "name": "python",
   "nbconvert_exporter": "python",
   "pygments_lexer": "ipython3",
   "version": "3.8.10"
  }
 },
 "nbformat": 4,
 "nbformat_minor": 5
}
