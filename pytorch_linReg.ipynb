{
 "cells": [
  {
   "cell_type": "code",
   "execution_count": 1,
   "metadata": {},
   "outputs": [],
   "source": [
    "import torch\n",
    "import torch.nn as nn\n",
    "import numpy as np\n",
    "from sklearn import datasets\n",
    "from pickletools import optimize\n",
    "import matplotlib.pyplot as plt"
   ]
  },
  {
   "cell_type": "code",
   "execution_count": 2,
   "metadata": {},
   "outputs": [],
   "source": [
    "## Prepare data\n",
    "X_numpy, y_numpy = datasets.make_regression(n_samples=200, n_features=1, noise=10, random_state=42)\n",
    "X = torch.from_numpy(X_numpy.astype(np.float32))\n",
    "y = torch.from_numpy(y_numpy.astype(np.float32))\n",
    "y = y.view(y.shape[0], 1)\n",
    "\n",
    "n_samples, n_features = X.shape"
   ]
  },
  {
   "cell_type": "code",
   "execution_count": 3,
   "metadata": {},
   "outputs": [
    {
     "name": "stdout",
     "output_type": "stream",
     "text": [
      "epoch: 40, loss:1757.2028\n",
      "epoch: 80, loss:514.2151\n",
      "epoch: 120, loss:204.7480\n",
      "epoch: 160, loss:127.4618\n",
      "epoch: 200, loss:108.1133\n"
     ]
    }
   ],
   "source": [
    "m = nn.Linear(n_features , 1) # input_size=1, output_size=1\n",
    "\n",
    "loss_fct = nn.MSELoss()\n",
    "optimizer = torch.optim.SGD(m.parameters(), lr=0.01)\n",
    "\n",
    "for epoch in range(200):\n",
    "    y_pred = m(X) # forward pass \n",
    "    loss = loss_fct(y_pred, y)\n",
    "    loss.backward()\n",
    "    optimizer.step()\n",
    "    optimizer.zero_grad()\n",
    "    \n",
    "    if (epoch+1) % 40 == 0:\n",
    "        print(f'epoch: {epoch+1}, loss:{loss.item():.4f}')   "
   ]
  },
  {
   "cell_type": "code",
   "execution_count": 4,
   "metadata": {},
   "outputs": [
    {
     "data": {
      "image/png": "[encoded data removed]",
      "text/plain": [
       "<Figure size 432x288 with 1 Axes>"
      ]
     },
     "metadata": {
      "needs_background": "light"
     },
     "output_type": "display_data"
    }
   ],
   "source": [
    "predicted = m(X).detach().numpy()\n",
    "plt.plot(X_numpy, y_numpy, 'ro')\n",
    "plt.plot(X_numpy, predicted, 'b')\n",
    "plt.show()"
   ]
  }
 ],
 "metadata": {
  "kernelspec": {
   "display_name": "Python 3 (ipykernel)",
   "language": "python",
   "name": "python3"
  },
  "language_info": {
   "codemirror_mode": {
    "name": "ipython",
    "version": 3
   },
   "file_extension": ".py",
   "mimetype": "text/x-python",
   "name": "python",
   "nbconvert_exporter": "python",
   "pygments_lexer": "ipython3",
   "version": "3.8.10"
  },
  "vscode": {
   "interpreter": {
    "hash": "6ebc47b8ce4df81139e6a3a24157619058fef8c003b3e32546d8fbf06e982b81"
   }
  }
 },
 "nbformat": 4,
 "nbformat_minor": 4
}
