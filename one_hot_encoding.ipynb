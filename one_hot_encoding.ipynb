{
 "cells": [
  {
   "cell_type": "code",
   "execution_count": 1,
   "id": "2fce40ce-b816-40ad-9acd-51acd04623dd",
   "metadata": {},
   "outputs": [
    {
     "name": "stderr",
     "output_type": "stream",
     "text": [
      "2022-03-07 01:04:14.765570: W tensorflow/stream_executor/platform/default/dso_loader.cc:64] Could not load dynamic library 'libcudart.so.11.0'; dlerror: libcudart.so.11.0: cannot open shared object file: No such file or directory\n",
      "2022-03-07 01:04:14.765645: I tensorflow/stream_executor/cuda/cudart_stub.cc:29] Ignore above cudart dlerror if you do not have a GPU set up on your machine.\n"
     ]
    }
   ],
   "source": [
    "import string\n",
    "import numpy as np\n",
    "from keras.preprocessing.text import Tokenizer\n",
    "import itertools"
   ]
  },
  {
   "cell_type": "code",
   "execution_count": 2,
   "id": "ca97a3ac-7691-4d21-be4f-d30082481f6e",
   "metadata": {},
   "outputs": [
    {
     "data": {
      "text/plain": [
       "[['I', 'love', 'love', 'machine', 'learning'],\n",
       " ['A', 'machine', 'can', 'love'],\n",
       " ['I', 'love', 'love', 'love']]"
      ]
     },
     "execution_count": 2,
     "metadata": {},
     "output_type": "execute_result"
    }
   ],
   "source": [
    "docs = ['I love love machine learning',\n",
    "        'A machine can love',\n",
    "        'I love love love']\n",
    "\n",
    "tokens_docs = [doc.split(\" \") for doc in docs]\n",
    "tokens_docs"
   ]
  },
  {
   "cell_type": "code",
   "execution_count": 3,
   "id": "58f75695-026a-4dd0-95ef-3328fb3d85be",
   "metadata": {},
   "outputs": [
    {
     "data": {
      "text/plain": [
       "{'love': 0, 'machine': 1, 'can': 2, 'I': 3, 'A': 4, 'learning': 5}"
      ]
     },
     "execution_count": 3,
     "metadata": {},
     "output_type": "execute_result"
    }
   ],
   "source": [
    "# First, build an index of all tokens in the data.\n",
    "all_tokens = itertools.chain.from_iterable(tokens_docs)\n",
    "word_to_id = {token: idx for idx, token in enumerate(set(all_tokens))}\n",
    "word_to_id"
   ]
  },
  {
   "cell_type": "code",
   "execution_count": 4,
   "id": "d4888eaa-4e1b-4064-8903-6b2440bfbbae",
   "metadata": {
    "tags": []
   },
   "outputs": [],
   "source": [
    "nb_words = len(word_to_id)\n",
    "\n",
    "res = []\n",
    "for tokens_doc in tokens_docs:\n",
    "    mat = np.zeros((len(tokens_doc), nb_words))\n",
    "    for j, word in list(enumerate(tokens_doc)):\n",
    "        index = word_to_id.get(word)\n",
    "        mat[j, index] = 1.\n",
    "    res.append(mat)"
   ]
  },
  {
   "cell_type": "code",
   "execution_count": 5,
   "id": "49208ce5-3a8a-4bf1-bbde-7a34c091a90e",
   "metadata": {},
   "outputs": [
    {
     "name": "stdout",
     "output_type": "stream",
     "text": [
      "I love love machine learning\n",
      "[[0. 0. 0. 1. 0. 0.]\n",
      " [1. 0. 0. 0. 0. 0.]\n",
      " [1. 0. 0. 0. 0. 0.]\n",
      " [0. 1. 0. 0. 0. 0.]\n",
      " [0. 0. 0. 0. 0. 1.]]\n",
      "\n",
      "A machine can love\n",
      "[[0. 0. 0. 0. 1. 0.]\n",
      " [0. 1. 0. 0. 0. 0.]\n",
      " [0. 0. 1. 0. 0. 0.]\n",
      " [1. 0. 0. 0. 0. 0.]]\n",
      "\n",
      "I love love love\n",
      "[[0. 0. 0. 1. 0. 0.]\n",
      " [1. 0. 0. 0. 0. 0.]\n",
      " [1. 0. 0. 0. 0. 0.]\n",
      " [1. 0. 0. 0. 0. 0.]]\n",
      "\n"
     ]
    }
   ],
   "source": [
    "for i, x in enumerate(res):\n",
    "    print(docs[i])\n",
    "    print(x)\n",
    "    print()\n"
   ]
  }
 ],
 "metadata": {
  "kernelspec": {
   "display_name": "Python 3 (ipykernel)",
   "language": "python",
   "name": "python3"
  },
  "language_info": {
   "codemirror_mode": {
    "name": "ipython",
    "version": 3
   },
   "file_extension": ".py",
   "mimetype": "text/x-python",
   "name": "python",
   "nbconvert_exporter": "python",
   "pygments_lexer": "ipython3",
   "version": "3.8.10"
  }
 },
 "nbformat": 4,
 "nbformat_minor": 5
}
